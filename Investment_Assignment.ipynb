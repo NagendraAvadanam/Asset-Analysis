{
 "cells": [
  {
   "cell_type": "markdown",
   "id": "2f970808",
   "metadata": {},
   "source": [
    "## Spark Funds Investment Assignment"
   ]
  },
  {
   "cell_type": "markdown",
   "id": "ee55abc0",
   "metadata": {},
   "source": [
    "### Featuring\n",
    "\n",
    "This assignment is to analyse the investment strategies for the Spark Funds LLP company. The Target conclusions are to understand and finalize the investment based on the below strategy:\n",
    "\n",
    "1. Investment must be between 5 to 15 million USD.\n",
    "2. INvestment based countries must be English speaking countries, to have the easy marketing strategy.\n",
    "3. Investment on sectors and companies where other investors are also invested.\n",
    "\n",
    "\n",
    "<hr style=\"border:2px solid blue\"> </hr>"
   ]
  },
  {
   "cell_type": "markdown",
   "id": "d76a816f",
   "metadata": {},
   "source": [
    "### Importing Packages"
   ]
  },
  {
   "cell_type": "code",
   "execution_count": 1,
   "id": "8d91d49d",
   "metadata": {},
   "outputs": [],
   "source": [
    "import numpy as np\n",
    "import pandas as pd\n",
    "import matplotlib.pyplot as plt\n",
    "import chardet\n",
    "import warnings\n",
    "import seaborn as sns\n",
    "warnings.filterwarnings('ignore')"
   ]
  },
  {
   "cell_type": "markdown",
   "id": "5e8ec260",
   "metadata": {},
   "source": [
    "### Importing Dataset\n",
    "\n",
    "Importing required datasets Companies.csv, Rounds2.csv and Mapping.csv"
   ]
  },
  {
   "cell_type": "markdown",
   "id": "dbdfc79e",
   "metadata": {},
   "source": [
    "#### Importing Companies Dataset"
   ]
  },
  {
   "cell_type": "markdown",
   "id": "27fe4908",
   "metadata": {},
   "source": [
    "## Checking the Encoding format of file"
   ]
  },
  {
   "cell_type": "code",
   "execution_count": 2,
   "id": "d615c54f",
   "metadata": {},
   "outputs": [
    {
     "name": "stdout",
     "output_type": "stream",
     "text": [
      "{'encoding': 'Windows-1254', 'confidence': 0.4610845903762258, 'language': 'Turkish'}\n"
     ]
    }
   ],
   "source": [
    "with open(\"/Users/nagendraavadanam/Downloads/companies.csv\", \"rb\") as rawdata:\n",
    "    result=chardet.detect(rawdata.read())\n",
    "print(result)"
   ]
  },
  {
   "cell_type": "markdown",
   "id": "2ffc6303",
   "metadata": {},
   "source": [
    "## Windows-1254 Encoding From Wikipedia\n",
    "\n",
    "Windows-1254 is a code page used under Microsoft Windows to write Turkish. Characters with codepoints A0 through FF are compatible with ISO 8859-9, but the CR range, which is reserved for C1 control codes in ISO 8859, is instead used for additional characters **(analogous to the relationship between ISO-8859-1 and Windows-1252)**.\n",
    "\n",
    "**To import the file in a Encoding format given above, file encoding is translated to ISO-8859-1**"
   ]
  },
  {
   "cell_type": "code",
   "execution_count": 3,
   "id": "d402f173",
   "metadata": {},
   "outputs": [],
   "source": [
    "companies=pd.read_csv(r\"/Users/nagendraavadanam/Downloads/companies.csv\", encoding=\"ISO-8859-1\")"
   ]
  },
  {
   "cell_type": "code",
   "execution_count": 4,
   "id": "c68baa15",
   "metadata": {},
   "outputs": [
    {
     "name": "stdout",
     "output_type": "stream",
     "text": [
      "<class 'pandas.core.frame.DataFrame'>\n",
      "RangeIndex: 66368 entries, 0 to 66367\n",
      "Data columns (total 10 columns):\n",
      " #   Column         Non-Null Count  Dtype \n",
      "---  ------         --------------  ----- \n",
      " 0   permalink      66368 non-null  object\n",
      " 1   name           66367 non-null  object\n",
      " 2   homepage_url   61310 non-null  object\n",
      " 3   category_list  63220 non-null  object\n",
      " 4   status         66368 non-null  object\n",
      " 5   country_code   59410 non-null  object\n",
      " 6   state_code     57821 non-null  object\n",
      " 7   region         58338 non-null  object\n",
      " 8   city           58340 non-null  object\n",
      " 9   founded_at     51147 non-null  object\n",
      "dtypes: object(10)\n",
      "memory usage: 5.1+ MB\n"
     ]
    }
   ],
   "source": [
    "companies.info()"
   ]
  },
  {
   "cell_type": "markdown",
   "id": "2132974c",
   "metadata": {},
   "source": [
    "#### Importing rounds2 Dataset"
   ]
  },
  {
   "cell_type": "code",
   "execution_count": 5,
   "id": "182a9658",
   "metadata": {},
   "outputs": [
    {
     "name": "stdout",
     "output_type": "stream",
     "text": [
      "{'encoding': 'Windows-1254', 'confidence': 0.4186155476629225, 'language': 'Turkish'}\n"
     ]
    }
   ],
   "source": [
    "with open(\"/Users/nagendraavadanam/Downloads/rounds2.csv\", \"rb\") as rawdata:\n",
    "    result=chardet.detect(rawdata.read())\n",
    "print(result)"
   ]
  },
  {
   "cell_type": "code",
   "execution_count": 6,
   "id": "713d2705",
   "metadata": {},
   "outputs": [],
   "source": [
    "rounds2=pd.read_csv(r\"/Users/nagendraavadanam/Downloads/rounds2.csv\", encoding=\"ISO-8859-1\")"
   ]
  },
  {
   "cell_type": "code",
   "execution_count": 7,
   "id": "a5a16c6c",
   "metadata": {
    "scrolled": true
   },
   "outputs": [
    {
     "name": "stdout",
     "output_type": "stream",
     "text": [
      "<class 'pandas.core.frame.DataFrame'>\n",
      "RangeIndex: 114949 entries, 0 to 114948\n",
      "Data columns (total 6 columns):\n",
      " #   Column                   Non-Null Count   Dtype  \n",
      "---  ------                   --------------   -----  \n",
      " 0   company_permalink        114949 non-null  object \n",
      " 1   funding_round_permalink  114949 non-null  object \n",
      " 2   funding_round_type       114949 non-null  object \n",
      " 3   funding_round_code       31140 non-null   object \n",
      " 4   funded_at                114949 non-null  object \n",
      " 5   raised_amount_usd        94959 non-null   float64\n",
      "dtypes: float64(1), object(5)\n",
      "memory usage: 5.3+ MB\n"
     ]
    }
   ],
   "source": [
    "rounds2.info()"
   ]
  },
  {
   "cell_type": "markdown",
   "id": "28de1613",
   "metadata": {},
   "source": [
    "#### Importing Mapping Dataset"
   ]
  },
  {
   "cell_type": "code",
   "execution_count": 8,
   "id": "cb52aac7",
   "metadata": {},
   "outputs": [
    {
     "name": "stdout",
     "output_type": "stream",
     "text": [
      "{'encoding': 'ascii', 'confidence': 1.0, 'language': ''}\n"
     ]
    }
   ],
   "source": [
    "with open(\"/Users/nagendraavadanam/Downloads/mapping.csv\", \"rb\") as rawdata:\n",
    "    result=chardet.detect(rawdata.read())\n",
    "print(result)"
   ]
  },
  {
   "cell_type": "code",
   "execution_count": 9,
   "id": "f0ad0dd1",
   "metadata": {},
   "outputs": [],
   "source": [
    "mapping=pd.read_csv(r\"/Users/nagendraavadanam/Downloads/mapping.csv\")"
   ]
  },
  {
   "cell_type": "code",
   "execution_count": 10,
   "id": "e9eb0377",
   "metadata": {
    "scrolled": true
   },
   "outputs": [
    {
     "name": "stdout",
     "output_type": "stream",
     "text": [
      "<class 'pandas.core.frame.DataFrame'>\n",
      "RangeIndex: 688 entries, 0 to 687\n",
      "Data columns (total 10 columns):\n",
      " #   Column                                   Non-Null Count  Dtype \n",
      "---  ------                                   --------------  ----- \n",
      " 0   category_list                            687 non-null    object\n",
      " 1   Automotive & Sports                      688 non-null    int64 \n",
      " 2   Blanks                                   688 non-null    int64 \n",
      " 3   Cleantech / Semiconductors               688 non-null    int64 \n",
      " 4   Entertainment                            688 non-null    int64 \n",
      " 5   Health                                   688 non-null    int64 \n",
      " 6   Manufacturing                            688 non-null    int64 \n",
      " 7   News, Search and Messaging               688 non-null    int64 \n",
      " 8   Others                                   688 non-null    int64 \n",
      " 9   Social, Finance, Analytics, Advertising  688 non-null    int64 \n",
      "dtypes: int64(9), object(1)\n",
      "memory usage: 53.9+ KB\n"
     ]
    }
   ],
   "source": [
    "mapping.info()"
   ]
  },
  {
   "cell_type": "markdown",
   "id": "a1d59ed3",
   "metadata": {},
   "source": [
    "<hr style=\"border:2px solid blue\"> </hr>\n",
    "\n",
    "## Checkpoints - Part 1 : Started\n",
    "\n",
    "\n",
    "#### Checkpoint 1: Data Cleaning 1\n",
    "\n",
    "1. Load the companies and rounds data (provided on the previous page) into two data frames and name them companies and rounds2 respectively.\n",
    "2. Table 1.1: The table below is just for reference — you need to fill out the spreadsheet which is attached in the download section. This holds true for all the tables.\n",
    "\n",
    "Results Expected: Table 1.1\n",
    "\n",
    "#### Table 1.1: Understand the dataset\n",
    "                              \n",
    "|Scenario  |  Solution  |   \n",
    "|:--|----------------|\n",
    "|How many unique companies are present in rounds2? |  \n",
    "|How many unique companies are present in companies?   |   \n",
    "|In the companies data frame, which column can be  used as <br> the unique key for each company? Write the name of the column.   |   \n",
    "|Are there any companies in the rounds2 file which are not <br> present in companies? Answer yes or no: Y/N   |   \n",
    "|Merge the two data frames so that all variables (columns) <br> in the companies frame are added to the rounds2 data frame. <br> Name the merged frame master_frame.<br> How many observations are present in master_frame?   | "
   ]
  },
  {
   "cell_type": "markdown",
   "id": "82aeeb57",
   "metadata": {},
   "source": [
    "## Scenario 1\n",
    "\n",
    "### How many unique companies are present in rounds2?"
   ]
  },
  {
   "cell_type": "code",
   "execution_count": 11,
   "id": "f3b5c210",
   "metadata": {
    "scrolled": true
   },
   "outputs": [
    {
     "data": {
      "text/html": [
       "<div>\n",
       "<style scoped>\n",
       "    .dataframe tbody tr th:only-of-type {\n",
       "        vertical-align: middle;\n",
       "    }\n",
       "\n",
       "    .dataframe tbody tr th {\n",
       "        vertical-align: top;\n",
       "    }\n",
       "\n",
       "    .dataframe thead th {\n",
       "        text-align: right;\n",
       "    }\n",
       "</style>\n",
       "<table border=\"1\" class=\"dataframe\">\n",
       "  <thead>\n",
       "    <tr style=\"text-align: right;\">\n",
       "      <th></th>\n",
       "      <th>company_permalink</th>\n",
       "      <th>funding_round_permalink</th>\n",
       "      <th>funding_round_type</th>\n",
       "      <th>funding_round_code</th>\n",
       "      <th>funded_at</th>\n",
       "      <th>raised_amount_usd</th>\n",
       "    </tr>\n",
       "  </thead>\n",
       "  <tbody>\n",
       "    <tr>\n",
       "      <th>0</th>\n",
       "      <td>/organization/-fame</td>\n",
       "      <td>/funding-round/9a01d05418af9f794eebff7ace91f638</td>\n",
       "      <td>venture</td>\n",
       "      <td>B</td>\n",
       "      <td>05-01-2015</td>\n",
       "      <td>10000000.0</td>\n",
       "    </tr>\n",
       "    <tr>\n",
       "      <th>1</th>\n",
       "      <td>/ORGANIZATION/-QOUNTER</td>\n",
       "      <td>/funding-round/22dacff496eb7acb2b901dec1dfe5633</td>\n",
       "      <td>venture</td>\n",
       "      <td>A</td>\n",
       "      <td>14-10-2014</td>\n",
       "      <td>NaN</td>\n",
       "    </tr>\n",
       "    <tr>\n",
       "      <th>2</th>\n",
       "      <td>/organization/-qounter</td>\n",
       "      <td>/funding-round/b44fbb94153f6cdef13083530bb48030</td>\n",
       "      <td>seed</td>\n",
       "      <td>NaN</td>\n",
       "      <td>01-03-2014</td>\n",
       "      <td>700000.0</td>\n",
       "    </tr>\n",
       "    <tr>\n",
       "      <th>3</th>\n",
       "      <td>/ORGANIZATION/-THE-ONE-OF-THEM-INC-</td>\n",
       "      <td>/funding-round/650b8f704416801069bb178a1418776b</td>\n",
       "      <td>venture</td>\n",
       "      <td>B</td>\n",
       "      <td>30-01-2014</td>\n",
       "      <td>3406878.0</td>\n",
       "    </tr>\n",
       "    <tr>\n",
       "      <th>4</th>\n",
       "      <td>/organization/0-6-com</td>\n",
       "      <td>/funding-round/5727accaeaa57461bd22a9bdd945382d</td>\n",
       "      <td>venture</td>\n",
       "      <td>A</td>\n",
       "      <td>19-03-2008</td>\n",
       "      <td>2000000.0</td>\n",
       "    </tr>\n",
       "  </tbody>\n",
       "</table>\n",
       "</div>"
      ],
      "text/plain": [
       "                     company_permalink  \\\n",
       "0                  /organization/-fame   \n",
       "1               /ORGANIZATION/-QOUNTER   \n",
       "2               /organization/-qounter   \n",
       "3  /ORGANIZATION/-THE-ONE-OF-THEM-INC-   \n",
       "4                /organization/0-6-com   \n",
       "\n",
       "                           funding_round_permalink funding_round_type  \\\n",
       "0  /funding-round/9a01d05418af9f794eebff7ace91f638            venture   \n",
       "1  /funding-round/22dacff496eb7acb2b901dec1dfe5633            venture   \n",
       "2  /funding-round/b44fbb94153f6cdef13083530bb48030               seed   \n",
       "3  /funding-round/650b8f704416801069bb178a1418776b            venture   \n",
       "4  /funding-round/5727accaeaa57461bd22a9bdd945382d            venture   \n",
       "\n",
       "  funding_round_code   funded_at  raised_amount_usd  \n",
       "0                  B  05-01-2015         10000000.0  \n",
       "1                  A  14-10-2014                NaN  \n",
       "2                NaN  01-03-2014           700000.0  \n",
       "3                  B  30-01-2014          3406878.0  \n",
       "4                  A  19-03-2008          2000000.0  "
      ]
     },
     "execution_count": 11,
     "metadata": {},
     "output_type": "execute_result"
    }
   ],
   "source": [
    "rounds2.head()"
   ]
  },
  {
   "cell_type": "code",
   "execution_count": 12,
   "id": "4968284a",
   "metadata": {
    "scrolled": true
   },
   "outputs": [
    {
     "name": "stdout",
     "output_type": "stream",
     "text": [
      "66368\n",
      "There are 66368 unique rows in rounds2 table for company_permalink attribute\n"
     ]
    }
   ],
   "source": [
    "## Unique company_permalink in rounds2\n",
    "\n",
    "rounds2['company_permalink']=rounds2['company_permalink'].str.lower().str.encode('utf-8').str.decode('ascii', 'ignore') ## converting to lower case\n",
    "\n",
    "print(rounds2['company_permalink'].nunique())\n",
    "\n",
    "print(f\"There are {rounds2['company_permalink'].nunique()} unique rows in rounds2 table for company_permalink attribute\")"
   ]
  },
  {
   "cell_type": "markdown",
   "id": "c80aa25f",
   "metadata": {},
   "source": [
    "## Scenario 2\n",
    "\n",
    "### How many unique companies are present in companies?"
   ]
  },
  {
   "cell_type": "code",
   "execution_count": 13,
   "id": "5b9e55cc",
   "metadata": {},
   "outputs": [
    {
     "data": {
      "text/html": [
       "<div>\n",
       "<style scoped>\n",
       "    .dataframe tbody tr th:only-of-type {\n",
       "        vertical-align: middle;\n",
       "    }\n",
       "\n",
       "    .dataframe tbody tr th {\n",
       "        vertical-align: top;\n",
       "    }\n",
       "\n",
       "    .dataframe thead th {\n",
       "        text-align: right;\n",
       "    }\n",
       "</style>\n",
       "<table border=\"1\" class=\"dataframe\">\n",
       "  <thead>\n",
       "    <tr style=\"text-align: right;\">\n",
       "      <th></th>\n",
       "      <th>permalink</th>\n",
       "      <th>name</th>\n",
       "      <th>homepage_url</th>\n",
       "      <th>category_list</th>\n",
       "      <th>status</th>\n",
       "      <th>country_code</th>\n",
       "      <th>state_code</th>\n",
       "      <th>region</th>\n",
       "      <th>city</th>\n",
       "      <th>founded_at</th>\n",
       "    </tr>\n",
       "  </thead>\n",
       "  <tbody>\n",
       "    <tr>\n",
       "      <th>0</th>\n",
       "      <td>/Organization/-Fame</td>\n",
       "      <td>#fame</td>\n",
       "      <td>http://livfame.com</td>\n",
       "      <td>Media</td>\n",
       "      <td>operating</td>\n",
       "      <td>IND</td>\n",
       "      <td>16</td>\n",
       "      <td>Mumbai</td>\n",
       "      <td>Mumbai</td>\n",
       "      <td>NaN</td>\n",
       "    </tr>\n",
       "    <tr>\n",
       "      <th>1</th>\n",
       "      <td>/Organization/-Qounter</td>\n",
       "      <td>:Qounter</td>\n",
       "      <td>http://www.qounter.com</td>\n",
       "      <td>Application Platforms|Real Time|Social Network...</td>\n",
       "      <td>operating</td>\n",
       "      <td>USA</td>\n",
       "      <td>DE</td>\n",
       "      <td>DE - Other</td>\n",
       "      <td>Delaware City</td>\n",
       "      <td>04-09-2014</td>\n",
       "    </tr>\n",
       "    <tr>\n",
       "      <th>2</th>\n",
       "      <td>/Organization/-The-One-Of-Them-Inc-</td>\n",
       "      <td>(THE) ONE of THEM,Inc.</td>\n",
       "      <td>http://oneofthem.jp</td>\n",
       "      <td>Apps|Games|Mobile</td>\n",
       "      <td>operating</td>\n",
       "      <td>NaN</td>\n",
       "      <td>NaN</td>\n",
       "      <td>NaN</td>\n",
       "      <td>NaN</td>\n",
       "      <td>NaN</td>\n",
       "    </tr>\n",
       "    <tr>\n",
       "      <th>3</th>\n",
       "      <td>/Organization/0-6-Com</td>\n",
       "      <td>0-6.com</td>\n",
       "      <td>http://www.0-6.com</td>\n",
       "      <td>Curated Web</td>\n",
       "      <td>operating</td>\n",
       "      <td>CHN</td>\n",
       "      <td>22</td>\n",
       "      <td>Beijing</td>\n",
       "      <td>Beijing</td>\n",
       "      <td>01-01-2007</td>\n",
       "    </tr>\n",
       "    <tr>\n",
       "      <th>4</th>\n",
       "      <td>/Organization/004-Technologies</td>\n",
       "      <td>004 Technologies</td>\n",
       "      <td>http://004gmbh.de/en/004-interact</td>\n",
       "      <td>Software</td>\n",
       "      <td>operating</td>\n",
       "      <td>USA</td>\n",
       "      <td>IL</td>\n",
       "      <td>Springfield, Illinois</td>\n",
       "      <td>Champaign</td>\n",
       "      <td>01-01-2010</td>\n",
       "    </tr>\n",
       "  </tbody>\n",
       "</table>\n",
       "</div>"
      ],
      "text/plain": [
       "                             permalink                    name  \\\n",
       "0                  /Organization/-Fame                   #fame   \n",
       "1               /Organization/-Qounter                :Qounter   \n",
       "2  /Organization/-The-One-Of-Them-Inc-  (THE) ONE of THEM,Inc.   \n",
       "3                /Organization/0-6-Com                 0-6.com   \n",
       "4       /Organization/004-Technologies        004 Technologies   \n",
       "\n",
       "                        homepage_url  \\\n",
       "0                 http://livfame.com   \n",
       "1             http://www.qounter.com   \n",
       "2                http://oneofthem.jp   \n",
       "3                 http://www.0-6.com   \n",
       "4  http://004gmbh.de/en/004-interact   \n",
       "\n",
       "                                       category_list     status country_code  \\\n",
       "0                                              Media  operating          IND   \n",
       "1  Application Platforms|Real Time|Social Network...  operating          USA   \n",
       "2                                  Apps|Games|Mobile  operating          NaN   \n",
       "3                                        Curated Web  operating          CHN   \n",
       "4                                           Software  operating          USA   \n",
       "\n",
       "  state_code                 region           city  founded_at  \n",
       "0         16                 Mumbai         Mumbai         NaN  \n",
       "1         DE             DE - Other  Delaware City  04-09-2014  \n",
       "2        NaN                    NaN            NaN         NaN  \n",
       "3         22                Beijing        Beijing  01-01-2007  \n",
       "4         IL  Springfield, Illinois      Champaign  01-01-2010  "
      ]
     },
     "execution_count": 13,
     "metadata": {},
     "output_type": "execute_result"
    }
   ],
   "source": [
    "companies.head()"
   ]
  },
  {
   "cell_type": "code",
   "execution_count": 14,
   "id": "0ee470bd",
   "metadata": {},
   "outputs": [
    {
     "name": "stdout",
     "output_type": "stream",
     "text": [
      "66368\n",
      "There are 66368 unique rows in companies table for permalink attribute\n"
     ]
    }
   ],
   "source": [
    "## Unique permalink in companies\n",
    "\n",
    "companies['permalink']=companies['permalink'].str.lower().str.encode('utf-8').str.decode('ascii', 'ignore') ## converting to lower case\n",
    "\n",
    "print(companies['permalink'].nunique())\n",
    "\n",
    "print(f\"There are {companies['permalink'].nunique()} unique rows in companies table for permalink attribute\")"
   ]
  },
  {
   "cell_type": "markdown",
   "id": "53939a68",
   "metadata": {},
   "source": [
    "## Scenario 3\n",
    "\n",
    "### In the companies data frame, which column can be used as the unique key for each company? Write the name of the column?"
   ]
  },
  {
   "cell_type": "code",
   "execution_count": 15,
   "id": "16f88f0a",
   "metadata": {},
   "outputs": [
    {
     "name": "stdout",
     "output_type": "stream",
     "text": [
      "<class 'pandas.core.frame.DataFrame'>\n",
      "RangeIndex: 66368 entries, 0 to 66367\n",
      "Data columns (total 10 columns):\n",
      " #   Column         Non-Null Count  Dtype \n",
      "---  ------         --------------  ----- \n",
      " 0   permalink      66368 non-null  object\n",
      " 1   name           66367 non-null  object\n",
      " 2   homepage_url   61310 non-null  object\n",
      " 3   category_list  63220 non-null  object\n",
      " 4   status         66368 non-null  object\n",
      " 5   country_code   59410 non-null  object\n",
      " 6   state_code     57821 non-null  object\n",
      " 7   region         58338 non-null  object\n",
      " 8   city           58340 non-null  object\n",
      " 9   founded_at     51147 non-null  object\n",
      "dtypes: object(10)\n",
      "memory usage: 5.1+ MB\n"
     ]
    }
   ],
   "source": [
    "companies.info()\n",
    "\n",
    "## From companies info, we got to understand that there are no null values in permalink attribute and addition to that its unique in nature. So in this case permalink is the unique key for each company."
   ]
  },
  {
   "cell_type": "markdown",
   "id": "c80bc98d",
   "metadata": {},
   "source": [
    "## Scenario 4\n",
    "\n",
    "### Are there any companies in the rounds2 file which are not present in companies? Answer yes or no: Y/N"
   ]
  },
  {
   "cell_type": "code",
   "execution_count": 16,
   "id": "0be6738e",
   "metadata": {},
   "outputs": [],
   "source": [
    "company_permalink=companies['permalink']"
   ]
  },
  {
   "cell_type": "code",
   "execution_count": 17,
   "id": "335d909e",
   "metadata": {},
   "outputs": [],
   "source": [
    "rounds2_permalink=rounds2['company_permalink'].unique()"
   ]
  },
  {
   "cell_type": "markdown",
   "id": "f785165d",
   "metadata": {},
   "source": [
    "#### Tested the company_permalink in rounds2 are not present in companies (permalink attribute) using Intersection <br> where result is exact the same count of companies present in both dataframes"
   ]
  },
  {
   "cell_type": "code",
   "execution_count": 18,
   "id": "9776b43b",
   "metadata": {},
   "outputs": [
    {
     "data": {
      "text/plain": [
       "66368"
      ]
     },
     "execution_count": 18,
     "metadata": {},
     "output_type": "execute_result"
    }
   ],
   "source": [
    "pd.Series(list(set(rounds2_permalink).intersection(set(company_permalink)))).nunique()"
   ]
  },
  {
   "cell_type": "markdown",
   "id": "be1fb6f0",
   "metadata": {},
   "source": [
    "#### Tested the company_permalink in rounds2 are not present in companies (permalink attribute) using Difference <br> where result is zero explaining there is no company left.\n",
    "\n",
    "\n",
    "#### After the two testings, using Intersection and Difference, conclusion made is True."
   ]
  },
  {
   "cell_type": "code",
   "execution_count": 19,
   "id": "2e1b4167",
   "metadata": {
    "scrolled": true
   },
   "outputs": [
    {
     "data": {
      "text/plain": [
       "0"
      ]
     },
     "execution_count": 19,
     "metadata": {},
     "output_type": "execute_result"
    }
   ],
   "source": [
    "pd.Series(list(set(rounds2_permalink).difference(set(company_permalink)))).nunique()"
   ]
  },
  {
   "cell_type": "markdown",
   "id": "188df76f",
   "metadata": {},
   "source": [
    "## Scenario 5\n",
    "\n",
    "### Merge the two data frames so that all variables (columns) in the companies frame are added to the rounds2 data frame. Name the merged frame master_frame. How many observations are present in master_frame?"
   ]
  },
  {
   "cell_type": "code",
   "execution_count": 20,
   "id": "d6dbaad0",
   "metadata": {},
   "outputs": [
    {
     "data": {
      "text/plain": [
       "114949"
      ]
     },
     "execution_count": 20,
     "metadata": {},
     "output_type": "execute_result"
    }
   ],
   "source": [
    "master_frame=pd.merge(companies, rounds2, how=\"inner\", left_on=\"permalink\", right_on=\"company_permalink\")\n",
    "master_frame.shape[0]"
   ]
  },
  {
   "cell_type": "markdown",
   "id": "224a9374",
   "metadata": {},
   "source": [
    "\n",
    "### Checkpoint 1: Completed\n",
    "\n",
    "<hr style=\"border:2px solid blue\"> </hr>"
   ]
  },
  {
   "cell_type": "markdown",
   "id": "0a9ef34d",
   "metadata": {},
   "source": [
    "<hr style=\"border:2px solid blue\"> </hr>\n",
    "\n",
    "## Checkpoint 2: Funding Type Analysis\n",
    "\n",
    "This is the first of the three goals of data analysis – investment type analysis.\n",
    " \n",
    "The funding types such as seed, venture, angel, etc. depend on the type of the company (startup, corporate, etc.), its stage (early stage startup, funded startup, etc.), the amount of funding (a few million USD to a billion USD), and so on. For example, seed, angel and venture are three common stages of startup funding.\n",
    "1. Seed/angel funding refer to early stage startups whereas venture funding occurs after seed or angel stage/s and involves a relatively higher amount of investment.\n",
    "2. Private equity type investments are associated with much larger companies and involve much higher investments than venture type. Startups which have grown in scale may also receive private equity funding. This means that if a company has reached the venture stage, it would have already passed through the angel or seed stage/s.\n",
    "\n",
    "\n",
    "**Spark Funds wants to choose one of these four investment types for each potential investment they will make.**\n",
    " \n",
    "Considering the constraints of Spark Funds, you have to decide one funding type which is most suitable for them.\n",
    "\n",
    "1. Calculate the **most representative value of the investment amount** for each of the four funding types (venture, angel, seed, and private equity) and report the answers in **Table 2.1**\n",
    "2. Based on the most representative investment amount calculated above, which investment type do you think is the most suitable for Spark Funds?\n",
    " \n",
    "Considering that Spark Funds wants to invest between **5 to 15 million USD** per investment round, which investment type is the most suitable for it? Identify the investment type and, for further analysis, filter the data so it only contains the chosen investment type.\n",
    "\n",
    "\n"
   ]
  },
  {
   "cell_type": "code",
   "execution_count": 21,
   "id": "8e2d838b",
   "metadata": {},
   "outputs": [
    {
     "name": "stdout",
     "output_type": "stream",
     "text": [
      "<class 'pandas.core.frame.DataFrame'>\n",
      "Int64Index: 114949 entries, 0 to 114948\n",
      "Data columns (total 16 columns):\n",
      " #   Column                   Non-Null Count   Dtype  \n",
      "---  ------                   --------------   -----  \n",
      " 0   permalink                114949 non-null  object \n",
      " 1   name                     114948 non-null  object \n",
      " 2   homepage_url             108815 non-null  object \n",
      " 3   category_list            111539 non-null  object \n",
      " 4   status                   114949 non-null  object \n",
      " 5   country_code             106271 non-null  object \n",
      " 6   state_code               104003 non-null  object \n",
      " 7   region                   104782 non-null  object \n",
      " 8   city                     104785 non-null  object \n",
      " 9   founded_at               94428 non-null   object \n",
      " 10  company_permalink        114949 non-null  object \n",
      " 11  funding_round_permalink  114949 non-null  object \n",
      " 12  funding_round_type       114949 non-null  object \n",
      " 13  funding_round_code       31140 non-null   object \n",
      " 14  funded_at                114949 non-null  object \n",
      " 15  raised_amount_usd        94959 non-null   float64\n",
      "dtypes: float64(1), object(15)\n",
      "memory usage: 14.9+ MB\n"
     ]
    }
   ],
   "source": [
    "master_frame.info()"
   ]
  },
  {
   "cell_type": "code",
   "execution_count": 22,
   "id": "9abfc61f",
   "metadata": {},
   "outputs": [
    {
     "data": {
      "text/plain": [
       "19990"
      ]
     },
     "execution_count": 22,
     "metadata": {},
     "output_type": "execute_result"
    }
   ],
   "source": [
    "## Finding the null values in raised_amount_usd attribute\n",
    "\n",
    "master_frame['raised_amount_usd'].isnull().sum()"
   ]
  },
  {
   "cell_type": "code",
   "execution_count": 23,
   "id": "edc3a65b",
   "metadata": {},
   "outputs": [
    {
     "data": {
      "text/plain": [
       "17.0"
      ]
     },
     "execution_count": 23,
     "metadata": {},
     "output_type": "execute_result"
    }
   ],
   "source": [
    "## Since the percentage of the null values of the \"raised_amount_usd\" is 17%. And the data is 17% can be removed.\n",
    "\n",
    "round(19990/114949,2)*100"
   ]
  },
  {
   "cell_type": "code",
   "execution_count": 24,
   "id": "18ee22db",
   "metadata": {},
   "outputs": [],
   "source": [
    "## Removing the 17% of raised_amount_usd.\n",
    "\n",
    "master_frame=master_frame[~master_frame.raised_amount_usd.isnull()]"
   ]
  },
  {
   "cell_type": "code",
   "execution_count": 25,
   "id": "d2688397",
   "metadata": {},
   "outputs": [
    {
     "data": {
      "text/plain": [
       "0"
      ]
     },
     "execution_count": 25,
     "metadata": {},
     "output_type": "execute_result"
    }
   ],
   "source": [
    "## Ensuring  the null data in raised_amount_usd\n",
    "\n",
    "master_frame['raised_amount_usd'].isnull().sum()"
   ]
  },
  {
   "cell_type": "code",
   "execution_count": 26,
   "id": "5de4e828",
   "metadata": {},
   "outputs": [
    {
     "data": {
      "text/plain": [
       "permalink                   0.00\n",
       "name                        0.00\n",
       "homepage_url                4.56\n",
       "category_list               1.10\n",
       "status                      0.00\n",
       "country_code                6.16\n",
       "state_code                  8.01\n",
       "region                      7.42\n",
       "city                        7.42\n",
       "founded_at                 16.81\n",
       "company_permalink           0.00\n",
       "funding_round_permalink     0.00\n",
       "funding_round_type          0.00\n",
       "funding_round_code         70.34\n",
       "funded_at                   0.00\n",
       "raised_amount_usd           0.00\n",
       "dtype: float64"
      ]
     },
     "execution_count": 26,
     "metadata": {},
     "output_type": "execute_result"
    }
   ],
   "source": [
    "## Checking the dataframe null values\n",
    "\n",
    "round(100*(master_frame.isnull().sum()/len(master_frame.index)),2)"
   ]
  },
  {
   "cell_type": "code",
   "execution_count": 27,
   "id": "ed14baeb",
   "metadata": {},
   "outputs": [],
   "source": [
    "## We are creating the new dataframe master_frame, with only few columns, by dropping unnecessary attributes\n",
    "\n",
    "master_frame = master_frame.drop(['funding_round_code', 'funding_round_permalink', 'funded_at','permalink', \n",
    "                                  'homepage_url','state_code', 'region', 'city', 'founded_at','status'], axis = 1)"
   ]
  },
  {
   "cell_type": "code",
   "execution_count": 28,
   "id": "b820f635",
   "metadata": {
    "scrolled": true
   },
   "outputs": [
    {
     "name": "stdout",
     "output_type": "stream",
     "text": [
      "<class 'pandas.core.frame.DataFrame'>\n",
      "Int64Index: 94959 entries, 0 to 114948\n",
      "Data columns (total 6 columns):\n",
      " #   Column              Non-Null Count  Dtype  \n",
      "---  ------              --------------  -----  \n",
      " 0   name                94958 non-null  object \n",
      " 1   category_list       93915 non-null  object \n",
      " 2   country_code        89108 non-null  object \n",
      " 3   company_permalink   94959 non-null  object \n",
      " 4   funding_round_type  94959 non-null  object \n",
      " 5   raised_amount_usd   94959 non-null  float64\n",
      "dtypes: float64(1), object(5)\n",
      "memory usage: 5.1+ MB\n"
     ]
    }
   ],
   "source": [
    "master_frame.info()"
   ]
  },
  {
   "cell_type": "code",
   "execution_count": 29,
   "id": "8cf47c87",
   "metadata": {},
   "outputs": [
    {
     "data": {
      "text/plain": [
       "array(['venture', 'seed', 'undisclosed', 'convertible_note',\n",
       "       'private_equity', 'debt_financing', 'angel', 'grant',\n",
       "       'equity_crowdfunding', 'post_ipo_equity', 'post_ipo_debt',\n",
       "       'product_crowdfunding', 'secondary_market',\n",
       "       'non_equity_assistance'], dtype=object)"
      ]
     },
     "execution_count": 29,
     "metadata": {},
     "output_type": "execute_result"
    }
   ],
   "source": [
    "## Checking the unique() funding types\n",
    "\n",
    "master_frame.funding_round_type.unique()"
   ]
  },
  {
   "cell_type": "code",
   "execution_count": 30,
   "id": "bdb651f7",
   "metadata": {},
   "outputs": [
    {
     "data": {
      "image/png": "[encoded data removed]",
      "text/plain": [
       "<Figure size 1296x720 with 1 Axes>"
      ]
     },
     "metadata": {
      "needs_background": "light"
     },
     "output_type": "display_data"
    }
   ],
   "source": [
    "plt.figure(figsize=(18,10))\n",
    "sns.barplot(x='funding_round_type',y='raised_amount_usd', data=master_frame, estimator=np.mean)\n",
    "plt.xticks(rotation=45)\n",
    "plt.show()"
   ]
  },
  {
   "cell_type": "code",
   "execution_count": 31,
   "id": "4308a133",
   "metadata": {},
   "outputs": [],
   "source": [
    "## Considering only four funding types\n",
    "\n",
    "master_frame=master_frame[master_frame['funding_round_type'].isin(['seed','angel','venture','private_equity'])]"
   ]
  },
  {
   "cell_type": "code",
   "execution_count": 32,
   "id": "799462e5",
   "metadata": {},
   "outputs": [
    {
     "data": {
      "text/plain": [
       "array(['venture', 'seed', 'private_equity', 'angel'], dtype=object)"
      ]
     },
     "execution_count": 32,
     "metadata": {},
     "output_type": "execute_result"
    }
   ],
   "source": [
    "master_frame['funding_round_type'].unique()"
   ]
  },
  {
   "cell_type": "code",
   "execution_count": 33,
   "id": "1b9334bb",
   "metadata": {},
   "outputs": [
    {
     "data": {
      "text/html": [
       "<div>\n",
       "<style scoped>\n",
       "    .dataframe tbody tr th:only-of-type {\n",
       "        vertical-align: middle;\n",
       "    }\n",
       "\n",
       "    .dataframe tbody tr th {\n",
       "        vertical-align: top;\n",
       "    }\n",
       "\n",
       "    .dataframe thead th {\n",
       "        text-align: right;\n",
       "    }\n",
       "</style>\n",
       "<table border=\"1\" class=\"dataframe\">\n",
       "  <thead>\n",
       "    <tr style=\"text-align: right;\">\n",
       "      <th></th>\n",
       "      <th>name</th>\n",
       "      <th>category_list</th>\n",
       "      <th>country_code</th>\n",
       "      <th>company_permalink</th>\n",
       "      <th>funding_round_type</th>\n",
       "      <th>raised_amount_usd</th>\n",
       "    </tr>\n",
       "  </thead>\n",
       "  <tbody>\n",
       "    <tr>\n",
       "      <th>0</th>\n",
       "      <td>#fame</td>\n",
       "      <td>Media</td>\n",
       "      <td>IND</td>\n",
       "      <td>/organization/-fame</td>\n",
       "      <td>venture</td>\n",
       "      <td>10.000000</td>\n",
       "    </tr>\n",
       "    <tr>\n",
       "      <th>2</th>\n",
       "      <td>:Qounter</td>\n",
       "      <td>Application Platforms|Real Time|Social Network...</td>\n",
       "      <td>USA</td>\n",
       "      <td>/organization/-qounter</td>\n",
       "      <td>seed</td>\n",
       "      <td>0.700000</td>\n",
       "    </tr>\n",
       "    <tr>\n",
       "      <th>3</th>\n",
       "      <td>(THE) ONE of THEM,Inc.</td>\n",
       "      <td>Apps|Games|Mobile</td>\n",
       "      <td>NaN</td>\n",
       "      <td>/organization/-the-one-of-them-inc-</td>\n",
       "      <td>venture</td>\n",
       "      <td>3.406878</td>\n",
       "    </tr>\n",
       "    <tr>\n",
       "      <th>4</th>\n",
       "      <td>0-6.com</td>\n",
       "      <td>Curated Web</td>\n",
       "      <td>CHN</td>\n",
       "      <td>/organization/0-6-com</td>\n",
       "      <td>venture</td>\n",
       "      <td>2.000000</td>\n",
       "    </tr>\n",
       "    <tr>\n",
       "      <th>7</th>\n",
       "      <td>Ondine Biomedical Inc.</td>\n",
       "      <td>Biotechnology</td>\n",
       "      <td>CAN</td>\n",
       "      <td>/organization/0ndine-biomedical-inc</td>\n",
       "      <td>seed</td>\n",
       "      <td>0.043360</td>\n",
       "    </tr>\n",
       "  </tbody>\n",
       "</table>\n",
       "</div>"
      ],
      "text/plain": [
       "                     name                                      category_list  \\\n",
       "0                   #fame                                              Media   \n",
       "2                :Qounter  Application Platforms|Real Time|Social Network...   \n",
       "3  (THE) ONE of THEM,Inc.                                  Apps|Games|Mobile   \n",
       "4                 0-6.com                                        Curated Web   \n",
       "7  Ondine Biomedical Inc.                                      Biotechnology   \n",
       "\n",
       "  country_code                    company_permalink funding_round_type  \\\n",
       "0          IND                  /organization/-fame            venture   \n",
       "2          USA               /organization/-qounter               seed   \n",
       "3          NaN  /organization/-the-one-of-them-inc-            venture   \n",
       "4          CHN                /organization/0-6-com            venture   \n",
       "7          CAN  /organization/0ndine-biomedical-inc               seed   \n",
       "\n",
       "   raised_amount_usd  \n",
       "0          10.000000  \n",
       "2           0.700000  \n",
       "3           3.406878  \n",
       "4           2.000000  \n",
       "7           0.043360  "
      ]
     },
     "execution_count": 33,
     "metadata": {},
     "output_type": "execute_result"
    }
   ],
   "source": [
    "#Changing the value from dollar to million.\n",
    "\n",
    "master_frame['raised_amount_usd'] = master_frame['raised_amount_usd']/1000000\n",
    "master_frame.head()"
   ]
  },
  {
   "cell_type": "code",
   "execution_count": 34,
   "id": "cab0d5c3",
   "metadata": {},
   "outputs": [
    {
     "data": {
      "text/plain": [
       "funding_round_type\n",
       "angel              0.958694\n",
       "private_equity    73.308593\n",
       "seed               0.719818\n",
       "venture           11.748949\n",
       "Name: raised_amount_usd, dtype: float64"
      ]
     },
     "execution_count": 34,
     "metadata": {},
     "output_type": "execute_result"
    }
   ],
   "source": [
    "## Finding the average investment amount for each of the four funding types.\n",
    "\n",
    "master_frame.groupby(['funding_round_type'])['raised_amount_usd'].mean()"
   ]
  },
  {
   "cell_type": "code",
   "execution_count": 35,
   "id": "274d4cd2",
   "metadata": {},
   "outputs": [
    {
     "data": {
      "image/png": "[encoded data removed]",
      "text/plain": [
       "<Figure size 1296x720 with 1 Axes>"
      ]
     },
     "metadata": {
      "needs_background": "light"
     },
     "output_type": "display_data"
    }
   ],
   "source": [
    "## Graphical representation of Venture type funding\n",
    "\n",
    "plt.figure(figsize=(18,10))\n",
    "sns.barplot(x='funding_round_type',y='raised_amount_usd', data=master_frame, estimator=np.mean)\n",
    "plt.show()"
   ]
  },
  {
   "cell_type": "markdown",
   "id": "92806cf9",
   "metadata": {},
   "source": [
    "### Checkpoint 2: Completed Solutions\n",
    "\n",
    "- Average funding amount of venture type: **11.74 Million USD**\n",
    "- Average funding amount of angel type: **0.9 Million USD**\n",
    "- Average funding amount of seed type: **0.7 Million USD**\n",
    "- Average funding amount of private equity type: **73 Million USD**\n",
    "-  Considering that Spark Funds wants to invest between 5 to 15 million USD per  investment round, which investment    type is the most suitable for them? : **Venture**\n",
    "\n",
    "<hr style=\"border:2px solid blue\"> </hr>\n"
   ]
  },
  {
   "cell_type": "markdown",
   "id": "a860fcae",
   "metadata": {},
   "source": [
    "<hr style=\"border:2px solid blue\"> </hr>\n",
    "\n",
    "### Checkpoint 3: Country Analysis\n",
    "\n",
    "This is the second goal of analysis — **country analysis**.\n",
    " \n",
    "Now that you know the type of investment suited for Spark Funds, let's narrow down the countries.\n",
    " \n",
    "Spark Funds wants to invest in countries with the highest amount of funding for the chosen investment type.\n",
    "This is a part of its broader strategy to invest where **most investments are occurring**.\n",
    " \n",
    "1. Spark Funds wants to see the top nine countries which have received the highest total funding (across ALL sectors for the chosen investment type)\n",
    "2. For the chosen investment type, make a data frame named top9 with the top nine countries (based on the total investment amount each country has received)\n",
    " \n",
    "**Identify the top three English-speaking countries in the data frame top9.**\n",
    " "
   ]
  },
  {
   "cell_type": "code",
   "execution_count": 36,
   "id": "6d75b282",
   "metadata": {},
   "outputs": [],
   "source": [
    "top9 = master_frame[master_frame[\"funding_round_type\"]==\"venture\"]"
   ]
  },
  {
   "cell_type": "code",
   "execution_count": 37,
   "id": "d355b41e",
   "metadata": {
    "scrolled": true
   },
   "outputs": [],
   "source": [
    "## Removing the nulls in country code\n",
    "\n",
    "top9=top9[~top9.country_code.isnull()]"
   ]
  },
  {
   "cell_type": "code",
   "execution_count": 38,
   "id": "1f792ec2",
   "metadata": {},
   "outputs": [],
   "source": [
    "## Aggregating of the raised_amount_u for the 9 countries \n",
    "\n"
   ]
  },
  {
   "cell_type": "code",
   "execution_count": 39,
   "id": "6d4ca67e",
   "metadata": {},
   "outputs": [],
   "source": [
    "## Making top 9 countries dataframe\n",
    "\n",
    "top9 = top9[top9['country_code'].isin([\"USA\",\"CHN\",\"GBR\",\"IND\",\"CAN\",\"FRA\",\"ISR\",\"DEU\",\"JPN\"])]"
   ]
  },
  {
   "cell_type": "code",
   "execution_count": 40,
   "id": "1e5a6cad",
   "metadata": {},
   "outputs": [
    {
     "data": {
      "text/plain": [
       "country_code\n",
       "USA    422510.842796\n",
       "CHN     39835.418773\n",
       "GBR     20245.627416\n",
       "IND     14391.858718\n",
       "CAN      9583.332317\n",
       "FRA      7259.536732\n",
       "ISR      6907.514579\n",
       "DEU      6346.959822\n",
       "JPN      3363.676611\n",
       "Name: raised_amount_usd, dtype: float64"
      ]
     },
     "execution_count": 40,
     "metadata": {},
     "output_type": "execute_result"
    }
   ],
   "source": [
    "## Aggregating of the raised_amount_u for the 9 countries \n",
    "\n",
    "top9.groupby('country_code')['raised_amount_usd'].sum().sort_values(ascending=False).head(9)"
   ]
  },
  {
   "cell_type": "code",
   "execution_count": 41,
   "id": "4d2a1ab2",
   "metadata": {},
   "outputs": [
    {
     "data": {
      "image/png": "[encoded data removed]",
      "text/plain": [
       "<Figure size 720x648 with 1 Axes>"
      ]
     },
     "metadata": {
      "needs_background": "light"
     },
     "output_type": "display_data"
    }
   ],
   "source": [
    "## Graphical representation of all companies\n",
    "\n",
    "plt.figure(figsize=(10,9))\n",
    "sns.barplot(x='country_code',y='raised_amount_usd', data=top9, estimator=np.sum)\n",
    "plt.show()"
   ]
  },
  {
   "cell_type": "code",
   "execution_count": 42,
   "id": "79108c2c",
   "metadata": {},
   "outputs": [],
   "source": [
    "## Creating master_frame with the top three countries\n",
    "\n",
    "master_frame=master_frame[(master_frame['country_code'] == 'USA') | (master_frame['country_code'] == 'GBR') | (master_frame['country_code'] == 'IND')]"
   ]
  },
  {
   "cell_type": "code",
   "execution_count": 43,
   "id": "594789b3",
   "metadata": {},
   "outputs": [
    {
     "data": {
      "image/png": "[encoded data removed]",
      "text/plain": [
       "<Figure size 720x648 with 1 Axes>"
      ]
     },
     "metadata": {
      "needs_background": "light"
     },
     "output_type": "display_data"
    }
   ],
   "source": [
    "## Graphical representation of top three companies\n",
    "\n",
    "plt.figure(figsize=(10,9))\n",
    "sns.barplot(x='country_code',y='raised_amount_usd', data=master_frame, estimator=len)\n",
    "plt.show()"
   ]
  },
  {
   "cell_type": "markdown",
   "id": "a62f824e",
   "metadata": {},
   "source": [
    "###  Checkpoint 3: Completed Solutions\n",
    "\n",
    "- Top English speaking country: **USA**\n",
    "- Second English speaking country: **GBR**\n",
    "- Third English speaking country: **IND**\n",
    "\n",
    "<hr style=\"border:2px solid blue\"> </hr>"
   ]
  },
  {
   "cell_type": "markdown",
   "id": "1dbba4fe",
   "metadata": {},
   "source": [
    "<hr style=\"border:2px solid blue\"> </hr>\n",
    "\n",
    "### Checkpoint 4: Sector Analysis 1\n",
    "\n",
    "This is the third goal of analysis — **sector analysis**.\n",
    " \n",
    "When we say sector analysis, we refer to one of the **eight main sectors** (named **main_sector**) listed in the mapping file (note that ‘Other’ is one of the eight main sectors). This is to simplify the analysis by grouping the numerous category lists (named ‘category_list’) in the mapping file. For example, in the mapping file, category_lists such as ‘3D’, ‘3D Printing’, ‘3D Technology’, etc. are mapped to the main sector ‘Manufacturing’.\n",
    " \n",
    "Also, for some companies, the category list is a list of multiple sub-sectors separated by a pipe (vertical bar |). For example, one of the companies’ category_list is Application Platforms|Real Time|Social Network Media.\n",
    " \n",
    "1. You discuss with the CEO and come up with the **business rule** that the first string before the vertical bar will be considered the primary sector. In the example above, ‘Application Platforms’ will be considered the **primary sector**.\n",
    "2. **Extract** the primary sector of each category list from the **category_list column**\n",
    "Use the **mapping file** 'mapping.csv' to map each primary sector to one of the eight main sectors (Note that ‘Others’ is also considered one of the main sectors)\n",
    "**Expected Results:** Code for a merged data frame with each primary sector mapped to its main sector (the primary sector should be present in a separate column).\n",
    " "
   ]
  },
  {
   "cell_type": "code",
   "execution_count": 44,
   "id": "a112e64f",
   "metadata": {},
   "outputs": [
    {
     "name": "stdout",
     "output_type": "stream",
     "text": [
      "<class 'pandas.core.frame.DataFrame'>\n",
      "RangeIndex: 688 entries, 0 to 687\n",
      "Data columns (total 10 columns):\n",
      " #   Column                                   Non-Null Count  Dtype \n",
      "---  ------                                   --------------  ----- \n",
      " 0   category_list                            687 non-null    object\n",
      " 1   Automotive & Sports                      688 non-null    int64 \n",
      " 2   Blanks                                   688 non-null    int64 \n",
      " 3   Cleantech / Semiconductors               688 non-null    int64 \n",
      " 4   Entertainment                            688 non-null    int64 \n",
      " 5   Health                                   688 non-null    int64 \n",
      " 6   Manufacturing                            688 non-null    int64 \n",
      " 7   News, Search and Messaging               688 non-null    int64 \n",
      " 8   Others                                   688 non-null    int64 \n",
      " 9   Social, Finance, Analytics, Advertising  688 non-null    int64 \n",
      "dtypes: int64(9), object(1)\n",
      "memory usage: 53.9+ KB\n"
     ]
    }
   ],
   "source": [
    "## Checking the nulls in the mapping dataframe for all attribute\n",
    "\n",
    "mapping.info()"
   ]
  },
  {
   "cell_type": "code",
   "execution_count": 45,
   "id": "8cafac62",
   "metadata": {},
   "outputs": [
    {
     "data": {
      "text/plain": [
       "category_list                              0.15\n",
       "Automotive & Sports                        0.00\n",
       "Blanks                                     0.00\n",
       "Cleantech / Semiconductors                 0.00\n",
       "Entertainment                              0.00\n",
       "Health                                     0.00\n",
       "Manufacturing                              0.00\n",
       "News, Search and Messaging                 0.00\n",
       "Others                                     0.00\n",
       "Social, Finance, Analytics, Advertising    0.00\n",
       "dtype: float64"
      ]
     },
     "execution_count": 45,
     "metadata": {},
     "output_type": "execute_result"
    }
   ],
   "source": [
    "## checking the nulls percentage in mapping dataframe, for quantifying to remove the null values from attribute.\n",
    "\n",
    "round(100*(mapping.isnull().sum()/len(mapping.index)),2)"
   ]
  },
  {
   "cell_type": "code",
   "execution_count": 46,
   "id": "5cb558d1",
   "metadata": {},
   "outputs": [
    {
     "name": "stdout",
     "output_type": "stream",
     "text": [
      "<class 'pandas.core.frame.DataFrame'>\n",
      "Int64Index: 687 entries, 1 to 687\n",
      "Data columns (total 10 columns):\n",
      " #   Column                                   Non-Null Count  Dtype \n",
      "---  ------                                   --------------  ----- \n",
      " 0   category_list                            687 non-null    object\n",
      " 1   Automotive & Sports                      687 non-null    int64 \n",
      " 2   Blanks                                   687 non-null    int64 \n",
      " 3   Cleantech / Semiconductors               687 non-null    int64 \n",
      " 4   Entertainment                            687 non-null    int64 \n",
      " 5   Health                                   687 non-null    int64 \n",
      " 6   Manufacturing                            687 non-null    int64 \n",
      " 7   News, Search and Messaging               687 non-null    int64 \n",
      " 8   Others                                   687 non-null    int64 \n",
      " 9   Social, Finance, Analytics, Advertising  687 non-null    int64 \n",
      "dtypes: int64(9), object(1)\n",
      "memory usage: 59.0+ KB\n"
     ]
    }
   ],
   "source": [
    "## Removing the null values from category_list from mapping attribute\n",
    "mapping.category_list=mapping.category_list.replace({'0':'na', '2.na':'2.0'}, regex=True)\n",
    "\n",
    "mapping=mapping[~mapping.category_list.isnull()]\n",
    "mapping.info()"
   ]
  },
  {
   "cell_type": "code",
   "execution_count": 47,
   "id": "b0d91785",
   "metadata": {},
   "outputs": [
    {
     "data": {
      "text/plain": [
       "1                    3D\n",
       "2           3D Printing\n",
       "3         3D Technology\n",
       "4            Accounting\n",
       "5      Active Lifestyle\n",
       "             ...       \n",
       "683           Wholesale\n",
       "684    Wine And Spirits\n",
       "685            Wireless\n",
       "686               Women\n",
       "687        Young Adults\n",
       "Name: category_list, Length: 687, dtype: object"
      ]
     },
     "execution_count": 47,
     "metadata": {},
     "output_type": "execute_result"
    }
   ],
   "source": [
    "mapping.category_list.head(688)"
   ]
  },
  {
   "cell_type": "code",
   "execution_count": 48,
   "id": "1f92f562",
   "metadata": {},
   "outputs": [],
   "source": [
    "## Hint: Provided by Upgrad, Also, for some companies, the category list is a list of multiple sub-sectors\n",
    "## separated by a pipe (vertical bar |). \n",
    "## For example, one of the companies’ category_list is Application Platforms|Real Time|Social Network Media.\n",
    "\n",
    "master_frame['primary_sector']=master_frame['category_list'].str.split('|', n=2,expand=True)[[0]]"
   ]
  },
  {
   "cell_type": "code",
   "execution_count": 49,
   "id": "4aede1f1",
   "metadata": {},
   "outputs": [
    {
     "data": {
      "text/plain": [
       "0                         Media\n",
       "2         Application Platforms\n",
       "9                     Analytics\n",
       "10                    Analytics\n",
       "11                    Analytics\n",
       "                  ...          \n",
       "114935               E-Commerce\n",
       "114936            Biotechnology\n",
       "114939                Analytics\n",
       "114940                Analytics\n",
       "114947     Consumer Electronics\n",
       "Name: primary_sector, Length: 57517, dtype: object"
      ]
     },
     "execution_count": 49,
     "metadata": {},
     "output_type": "execute_result"
    }
   ],
   "source": [
    "master_frame.primary_sector"
   ]
  },
  {
   "cell_type": "code",
   "execution_count": 50,
   "id": "0f66c535",
   "metadata": {},
   "outputs": [],
   "source": [
    "# Using melt() functions, reshaping the dataframe\n",
    "\n",
    "mapping1=pd.melt(mapping, id_vars=['category_list'],value_vars = ['Automotive & Sports',\n",
    " 'Cleantech / Semiconductors',\n",
    " 'Entertainment',\n",
    " 'Health',\n",
    " 'Manufacturing',\n",
    " 'News, Search and Messaging',\n",
    " 'Others',\n",
    " 'Social, Finance, Analytics, Advertising'])\n",
    "mapping1=mapping1[mapping1['value'] == 1]"
   ]
  },
  {
   "cell_type": "code",
   "execution_count": 51,
   "id": "2ffab81f",
   "metadata": {},
   "outputs": [],
   "source": [
    "## Dropping column value\n",
    "\n",
    "mapping1.drop('value', axis=1 ,inplace = True)"
   ]
  },
  {
   "cell_type": "code",
   "execution_count": 52,
   "id": "347106d9",
   "metadata": {},
   "outputs": [
    {
     "data": {
      "text/html": [
       "<div>\n",
       "<style scoped>\n",
       "    .dataframe tbody tr th:only-of-type {\n",
       "        vertical-align: middle;\n",
       "    }\n",
       "\n",
       "    .dataframe tbody tr th {\n",
       "        vertical-align: top;\n",
       "    }\n",
       "\n",
       "    .dataframe thead th {\n",
       "        text-align: right;\n",
       "    }\n",
       "</style>\n",
       "<table border=\"1\" class=\"dataframe\">\n",
       "  <thead>\n",
       "    <tr style=\"text-align: right;\">\n",
       "      <th></th>\n",
       "      <th>category_list</th>\n",
       "      <th>variable</th>\n",
       "    </tr>\n",
       "  </thead>\n",
       "  <tbody>\n",
       "    <tr>\n",
       "      <th>7</th>\n",
       "      <td>Adventure Travel</td>\n",
       "      <td>Automotive &amp; Sports</td>\n",
       "    </tr>\n",
       "    <tr>\n",
       "      <th>13</th>\n",
       "      <td>Aerospace</td>\n",
       "      <td>Automotive &amp; Sports</td>\n",
       "    </tr>\n",
       "    <tr>\n",
       "      <th>44</th>\n",
       "      <td>Auto</td>\n",
       "      <td>Automotive &amp; Sports</td>\n",
       "    </tr>\n",
       "    <tr>\n",
       "      <th>45</th>\n",
       "      <td>Automated Kiosk</td>\n",
       "      <td>Automotive &amp; Sports</td>\n",
       "    </tr>\n",
       "    <tr>\n",
       "      <th>46</th>\n",
       "      <td>Automotive</td>\n",
       "      <td>Automotive &amp; Sports</td>\n",
       "    </tr>\n",
       "    <tr>\n",
       "      <th>...</th>\n",
       "      <td>...</td>\n",
       "      <td>...</td>\n",
       "    </tr>\n",
       "    <tr>\n",
       "      <th>5425</th>\n",
       "      <td>Social Recruiting</td>\n",
       "      <td>Social, Finance, Analytics, Advertising</td>\n",
       "    </tr>\n",
       "    <tr>\n",
       "      <th>5426</th>\n",
       "      <td>Social Television</td>\n",
       "      <td>Social, Finance, Analytics, Advertising</td>\n",
       "    </tr>\n",
       "    <tr>\n",
       "      <th>5427</th>\n",
       "      <td>Social Travel</td>\n",
       "      <td>Social, Finance, Analytics, Advertising</td>\n",
       "    </tr>\n",
       "    <tr>\n",
       "      <th>5438</th>\n",
       "      <td>Stock Exchanges</td>\n",
       "      <td>Social, Finance, Analytics, Advertising</td>\n",
       "    </tr>\n",
       "    <tr>\n",
       "      <th>5471</th>\n",
       "      <td>Venture Capital</td>\n",
       "      <td>Social, Finance, Analytics, Advertising</td>\n",
       "    </tr>\n",
       "  </tbody>\n",
       "</table>\n",
       "<p>687 rows × 2 columns</p>\n",
       "</div>"
      ],
      "text/plain": [
       "          category_list                                 variable\n",
       "7      Adventure Travel                      Automotive & Sports\n",
       "13            Aerospace                      Automotive & Sports\n",
       "44                 Auto                      Automotive & Sports\n",
       "45      Automated Kiosk                      Automotive & Sports\n",
       "46           Automotive                      Automotive & Sports\n",
       "...                 ...                                      ...\n",
       "5425  Social Recruiting  Social, Finance, Analytics, Advertising\n",
       "5426  Social Television  Social, Finance, Analytics, Advertising\n",
       "5427      Social Travel  Social, Finance, Analytics, Advertising\n",
       "5438    Stock Exchanges  Social, Finance, Analytics, Advertising\n",
       "5471    Venture Capital  Social, Finance, Analytics, Advertising\n",
       "\n",
       "[687 rows x 2 columns]"
      ]
     },
     "execution_count": 52,
     "metadata": {},
     "output_type": "execute_result"
    }
   ],
   "source": [
    "mapping1"
   ]
  },
  {
   "cell_type": "code",
   "execution_count": 53,
   "id": "b3beef62",
   "metadata": {},
   "outputs": [],
   "source": [
    "## renaming attributes\n",
    "mapping1.rename(columns={'category_list':'primary_sector','variable':'main_sector'},inplace = True)"
   ]
  },
  {
   "cell_type": "code",
   "execution_count": 54,
   "id": "46942d5c",
   "metadata": {},
   "outputs": [
    {
     "data": {
      "text/html": [
       "<div>\n",
       "<style scoped>\n",
       "    .dataframe tbody tr th:only-of-type {\n",
       "        vertical-align: middle;\n",
       "    }\n",
       "\n",
       "    .dataframe tbody tr th {\n",
       "        vertical-align: top;\n",
       "    }\n",
       "\n",
       "    .dataframe thead th {\n",
       "        text-align: right;\n",
       "    }\n",
       "</style>\n",
       "<table border=\"1\" class=\"dataframe\">\n",
       "  <thead>\n",
       "    <tr style=\"text-align: right;\">\n",
       "      <th></th>\n",
       "      <th>primary_sector</th>\n",
       "      <th>main_sector</th>\n",
       "    </tr>\n",
       "  </thead>\n",
       "  <tbody>\n",
       "    <tr>\n",
       "      <th>7</th>\n",
       "      <td>Adventure Travel</td>\n",
       "      <td>Automotive &amp; Sports</td>\n",
       "    </tr>\n",
       "    <tr>\n",
       "      <th>13</th>\n",
       "      <td>Aerospace</td>\n",
       "      <td>Automotive &amp; Sports</td>\n",
       "    </tr>\n",
       "    <tr>\n",
       "      <th>44</th>\n",
       "      <td>Auto</td>\n",
       "      <td>Automotive &amp; Sports</td>\n",
       "    </tr>\n",
       "    <tr>\n",
       "      <th>45</th>\n",
       "      <td>Automated Kiosk</td>\n",
       "      <td>Automotive &amp; Sports</td>\n",
       "    </tr>\n",
       "    <tr>\n",
       "      <th>46</th>\n",
       "      <td>Automotive</td>\n",
       "      <td>Automotive &amp; Sports</td>\n",
       "    </tr>\n",
       "  </tbody>\n",
       "</table>\n",
       "</div>"
      ],
      "text/plain": [
       "      primary_sector          main_sector\n",
       "7   Adventure Travel  Automotive & Sports\n",
       "13         Aerospace  Automotive & Sports\n",
       "44              Auto  Automotive & Sports\n",
       "45   Automated Kiosk  Automotive & Sports\n",
       "46        Automotive  Automotive & Sports"
      ]
     },
     "execution_count": 54,
     "metadata": {},
     "output_type": "execute_result"
    }
   ],
   "source": [
    "mapping1.head()"
   ]
  },
  {
   "cell_type": "code",
   "execution_count": 55,
   "id": "359a2b6f",
   "metadata": {},
   "outputs": [
    {
     "data": {
      "text/html": [
       "<div>\n",
       "<style scoped>\n",
       "    .dataframe tbody tr th:only-of-type {\n",
       "        vertical-align: middle;\n",
       "    }\n",
       "\n",
       "    .dataframe tbody tr th {\n",
       "        vertical-align: top;\n",
       "    }\n",
       "\n",
       "    .dataframe thead th {\n",
       "        text-align: right;\n",
       "    }\n",
       "</style>\n",
       "<table border=\"1\" class=\"dataframe\">\n",
       "  <thead>\n",
       "    <tr style=\"text-align: right;\">\n",
       "      <th></th>\n",
       "      <th>name</th>\n",
       "      <th>category_list</th>\n",
       "      <th>country_code</th>\n",
       "      <th>company_permalink</th>\n",
       "      <th>funding_round_type</th>\n",
       "      <th>raised_amount_usd</th>\n",
       "      <th>primary_sector</th>\n",
       "      <th>main_sector</th>\n",
       "    </tr>\n",
       "  </thead>\n",
       "  <tbody>\n",
       "    <tr>\n",
       "      <th>0</th>\n",
       "      <td>#fame</td>\n",
       "      <td>Media</td>\n",
       "      <td>IND</td>\n",
       "      <td>/organization/-fame</td>\n",
       "      <td>venture</td>\n",
       "      <td>10.0</td>\n",
       "      <td>Media</td>\n",
       "      <td>Entertainment</td>\n",
       "    </tr>\n",
       "    <tr>\n",
       "      <th>1</th>\n",
       "      <td>:Qounter</td>\n",
       "      <td>Application Platforms|Real Time|Social Network...</td>\n",
       "      <td>USA</td>\n",
       "      <td>/organization/-qounter</td>\n",
       "      <td>seed</td>\n",
       "      <td>0.7</td>\n",
       "      <td>Application Platforms</td>\n",
       "      <td>News, Search and Messaging</td>\n",
       "    </tr>\n",
       "    <tr>\n",
       "      <th>2</th>\n",
       "      <td>H2O.ai</td>\n",
       "      <td>Analytics</td>\n",
       "      <td>USA</td>\n",
       "      <td>/organization/0xdata</td>\n",
       "      <td>seed</td>\n",
       "      <td>3.0</td>\n",
       "      <td>Analytics</td>\n",
       "      <td>Social, Finance, Analytics, Advertising</td>\n",
       "    </tr>\n",
       "    <tr>\n",
       "      <th>3</th>\n",
       "      <td>H2O.ai</td>\n",
       "      <td>Analytics</td>\n",
       "      <td>USA</td>\n",
       "      <td>/organization/0xdata</td>\n",
       "      <td>venture</td>\n",
       "      <td>20.0</td>\n",
       "      <td>Analytics</td>\n",
       "      <td>Social, Finance, Analytics, Advertising</td>\n",
       "    </tr>\n",
       "    <tr>\n",
       "      <th>4</th>\n",
       "      <td>H2O.ai</td>\n",
       "      <td>Analytics</td>\n",
       "      <td>USA</td>\n",
       "      <td>/organization/0xdata</td>\n",
       "      <td>venture</td>\n",
       "      <td>1.7</td>\n",
       "      <td>Analytics</td>\n",
       "      <td>Social, Finance, Analytics, Advertising</td>\n",
       "    </tr>\n",
       "  </tbody>\n",
       "</table>\n",
       "</div>"
      ],
      "text/plain": [
       "       name                                      category_list country_code  \\\n",
       "0     #fame                                              Media          IND   \n",
       "1  :Qounter  Application Platforms|Real Time|Social Network...          USA   \n",
       "2    H2O.ai                                          Analytics          USA   \n",
       "3    H2O.ai                                          Analytics          USA   \n",
       "4    H2O.ai                                          Analytics          USA   \n",
       "\n",
       "        company_permalink funding_round_type  raised_amount_usd  \\\n",
       "0     /organization/-fame            venture               10.0   \n",
       "1  /organization/-qounter               seed                0.7   \n",
       "2    /organization/0xdata               seed                3.0   \n",
       "3    /organization/0xdata            venture               20.0   \n",
       "4    /organization/0xdata            venture                1.7   \n",
       "\n",
       "          primary_sector                              main_sector  \n",
       "0                  Media                            Entertainment  \n",
       "1  Application Platforms               News, Search and Messaging  \n",
       "2              Analytics  Social, Finance, Analytics, Advertising  \n",
       "3              Analytics  Social, Finance, Analytics, Advertising  \n",
       "4              Analytics  Social, Finance, Analytics, Advertising  "
      ]
     },
     "execution_count": 55,
     "metadata": {},
     "output_type": "execute_result"
    }
   ],
   "source": [
    "master_frame=master_frame.merge(mapping1, how='left', on='primary_sector')\n",
    "master_frame.head()"
   ]
  },
  {
   "cell_type": "code",
   "execution_count": 56,
   "id": "f926b522",
   "metadata": {},
   "outputs": [
    {
     "data": {
      "text/plain": [
       "538"
      ]
     },
     "execution_count": 56,
     "metadata": {},
     "output_type": "execute_result"
    }
   ],
   "source": [
    "len(master_frame[master_frame.main_sector.isnull()])"
   ]
  },
  {
   "cell_type": "code",
   "execution_count": 57,
   "id": "90497576",
   "metadata": {},
   "outputs": [],
   "source": [
    "master_frame=master_frame[~(master_frame.main_sector.isnull())]"
   ]
  },
  {
   "cell_type": "code",
   "execution_count": 58,
   "id": "a7b26fe9",
   "metadata": {},
   "outputs": [
    {
     "data": {
      "text/plain": [
       "56979"
      ]
     },
     "execution_count": 58,
     "metadata": {},
     "output_type": "execute_result"
    }
   ],
   "source": [
    "len(master_frame.index)"
   ]
  },
  {
   "cell_type": "code",
   "execution_count": 59,
   "id": "23e9bf3b",
   "metadata": {},
   "outputs": [
    {
     "data": {
      "text/plain": [
       "(56979, 8)"
      ]
     },
     "execution_count": 59,
     "metadata": {},
     "output_type": "execute_result"
    }
   ],
   "source": [
    "master_frame.shape"
   ]
  },
  {
   "cell_type": "markdown",
   "id": "08797d22",
   "metadata": {},
   "source": [
    "## Checkpoint 4: Completed\n",
    "\n",
    "<hr style=\"border:2px solid blue\"> </hr>\n",
    "\n"
   ]
  },
  {
   "cell_type": "markdown",
   "id": "4b5f3994",
   "metadata": {},
   "source": [
    "<hr style=\"border:2px solid blue\"> </hr>\n",
    "\n",
    "## Checkpoint 5: Sector Analysis 2\n",
    "\n",
    "Now you have a data frame with each company’s main sector (main_sector) mapped to it. When we say sector analysis, we refer to one of the eight **main sectors**.\n",
    " \n",
    "Also, you know the top three English speaking countries and the most suitable funding type for Spark Funds. Let’s call the three countries 'Country 1', 'Country 2' and 'Country 3' and the funding type 'FT'.\n",
    " \n",
    "Also, the range of funding preferred by Spark Funds is **5 to 15 million USD**.\n",
    " \n",
    "Now, the aim is to find out the most heavily invested main sectors in each of the three countries (for funding type FT and investments range of 5-15 M USD).\n",
    "\n",
    "1. Create three separate data frames D1, D2 and D3 for each of the three countries containing the observations of funding type FT falling within the 5-15 million USD range. The three data frames should contain all the columns of the master_frame along with the main sector and the primary sector. Using the three data frames, you can calculate the **total number of investments** and the **total amount of investments** in **each main sector** for each of the three countries.\n",
    " \n",
    "**Result Expected **\n",
    "\n",
    "1. Three data frames **D1**, **D2** and **D3**\n",
    "2. Table 5.1: Based on the analysis of the sectors, which main sectors and countries would you recommend Spark Funds to invest in? Present your conclusions in the presentation. The conclusions are subjective (i.e. there may be no ‘one right answer’), but it should be based on the basic strategy — invest in sectors where most investments are occurring. \n",
    " \n",
    "**Note: In the following table, all the observations refer to investments of the type FT within 5-15 M USD range.**\n",
    " "
   ]
  },
  {
   "cell_type": "markdown",
   "id": "98b02ab4",
   "metadata": {},
   "source": [
    "### For USA -- Sector-wise Investment Analysis"
   ]
  },
  {
   "cell_type": "code",
   "execution_count": 60,
   "id": "9c7a428a",
   "metadata": {},
   "outputs": [],
   "source": [
    "## Country code for USA, and raised_amount_usd is between 5 to 15\n",
    "\n",
    "D1=master_frame[(master_frame['country_code']=='USA') & (master_frame['raised_amount_usd'] >=5) \n",
    "                & (master_frame['raised_amount_usd'] <=15)]"
   ]
  },
  {
   "cell_type": "code",
   "execution_count": 61,
   "id": "53722b7e",
   "metadata": {},
   "outputs": [
    {
     "data": {
      "text/plain": [
       "12487"
      ]
     },
     "execution_count": 61,
     "metadata": {},
     "output_type": "execute_result"
    }
   ],
   "source": [
    "## Total number of Investments (count) for USA\n",
    "\n",
    "D1.raised_amount_usd.count()"
   ]
  },
  {
   "cell_type": "code",
   "execution_count": 62,
   "id": "6d5b935b",
   "metadata": {},
   "outputs": [
    {
     "data": {
      "text/plain": [
       "111255.584667"
      ]
     },
     "execution_count": 62,
     "metadata": {},
     "output_type": "execute_result"
    }
   ],
   "source": [
    "## Total amount of investment (USD) for USA\n",
    "\n",
    "D1.raised_amount_usd.sum()"
   ]
  },
  {
   "cell_type": "code",
   "execution_count": 63,
   "id": "08a8d549",
   "metadata": {},
   "outputs": [
    {
     "data": {
      "text/plain": [
       "main_sector\n",
       "Others                                     3040\n",
       "Social, Finance, Analytics, Advertising    2829\n",
       "Cleantech / Semiconductors                 2411\n",
       "Name: raised_amount_usd, dtype: int64"
      ]
     },
     "execution_count": 63,
     "metadata": {},
     "output_type": "execute_result"
    }
   ],
   "source": [
    "## Top three Sector name (no. of investment-wise) for USA\n",
    "\n",
    "D1.groupby('main_sector')['raised_amount_usd'].agg('count').sort_values(ascending=False).head(3)"
   ]
  },
  {
   "cell_type": "code",
   "execution_count": 64,
   "id": "8a4e17e1",
   "metadata": {
    "scrolled": true
   },
   "outputs": [
    {
     "data": {
      "image/png": "[encoded data removed]",
      "text/plain": [
       "<Figure size 720x360 with 1 Axes>"
      ]
     },
     "metadata": {
      "needs_background": "light"
     },
     "output_type": "display_data"
    }
   ],
   "source": [
    "plt.figure(figsize=(10,5))\n",
    "sns.barplot(x='raised_amount_usd',y='main_sector', data=D1, estimator=len)\n",
    "plt.xlabel(\"raised_amount_usd\", size=15)\n",
    "plt.ylabel(\"main_sector\", size=15)\n",
    "plt.title(\"Count Of Amount In USA Across Sectors\", size=18)\n",
    "plt.show()            \n",
    "\n"
   ]
  },
  {
   "cell_type": "code",
   "execution_count": 65,
   "id": "e58cc886",
   "metadata": {},
   "outputs": [
    {
     "data": {
      "text/plain": [
       "main_sector  company_permalink        \n",
       "Others       /organization/virtustream    64.3\n",
       "Name: raised_amount_usd, dtype: float64"
      ]
     },
     "execution_count": 65,
     "metadata": {},
     "output_type": "execute_result"
    }
   ],
   "source": [
    "## For point 3 (top sector count-wise), which company received the highest investment?\n",
    "\n",
    "D1[D1['main_sector']=='Others'].groupby(['main_sector','company_permalink'])['raised_amount_usd'].agg('sum','count').sort_values(ascending=False).head(1)"
   ]
  },
  {
   "cell_type": "code",
   "execution_count": 66,
   "id": "39ab2dd1",
   "metadata": {},
   "outputs": [
    {
     "data": {
      "text/plain": [
       "main_sector                              company_permalink         \n",
       "Social, Finance, Analytics, Advertising  /organization/choicestream    73.3\n",
       "Name: raised_amount_usd, dtype: float64"
      ]
     },
     "execution_count": 66,
     "metadata": {},
     "output_type": "execute_result"
    }
   ],
   "source": [
    "## For point 4 (second best sector count-wise), which company received the highest investment?\n",
    "\n",
    "D1[D1['main_sector']=='Social, Finance, Analytics, Advertising'].groupby(['main_sector','company_permalink'])['raised_amount_usd'].agg('sum','count').sort_values(ascending=False).head(1)"
   ]
  },
  {
   "cell_type": "markdown",
   "id": "b629a593",
   "metadata": {},
   "source": [
    "### For GBR -- Sector-wise Investment Analysis"
   ]
  },
  {
   "cell_type": "code",
   "execution_count": 67,
   "id": "1e6639bf",
   "metadata": {},
   "outputs": [],
   "source": [
    "## Country code for GBR, and raised_amount_usd is between 5 to 15\n",
    "\n",
    "D2=master_frame[(master_frame['country_code']=='GBR') & (master_frame['raised_amount_usd'] >=5) \n",
    "                & (master_frame['raised_amount_usd'] <=15)]"
   ]
  },
  {
   "cell_type": "code",
   "execution_count": 68,
   "id": "4be2f85a",
   "metadata": {},
   "outputs": [
    {
     "data": {
      "text/plain": [
       "654"
      ]
     },
     "execution_count": 68,
     "metadata": {},
     "output_type": "execute_result"
    }
   ],
   "source": [
    "## Total number of Investments (count) for GBR\n",
    "\n",
    "D2.raised_amount_usd.count()"
   ]
  },
  {
   "cell_type": "code",
   "execution_count": 69,
   "id": "9e50908c",
   "metadata": {},
   "outputs": [
    {
     "data": {
      "text/plain": [
       "5649.104149000001"
      ]
     },
     "execution_count": 69,
     "metadata": {},
     "output_type": "execute_result"
    }
   ],
   "source": [
    "## Total amount of investment (USD) for GBR\n",
    "\n",
    "D2.raised_amount_usd.sum()"
   ]
  },
  {
   "cell_type": "code",
   "execution_count": 70,
   "id": "bc108151",
   "metadata": {},
   "outputs": [
    {
     "data": {
      "text/plain": [
       "main_sector\n",
       "Others                                     153\n",
       "Social, Finance, Analytics, Advertising    143\n",
       "Cleantech / Semiconductors                 131\n",
       "Name: raised_amount_usd, dtype: int64"
      ]
     },
     "execution_count": 70,
     "metadata": {},
     "output_type": "execute_result"
    }
   ],
   "source": [
    "## Top three Sector name (no. of investment-wise) for GBR\n",
    "\n",
    "D2.groupby('main_sector')['raised_amount_usd'].agg('count').sort_values(ascending=False).head(3)"
   ]
  },
  {
   "cell_type": "code",
   "execution_count": 71,
   "id": "b7451c47",
   "metadata": {},
   "outputs": [
    {
     "data": {
      "image/png": "[encoded data removed]",
      "text/plain": [
       "<Figure size 720x360 with 1 Axes>"
      ]
     },
     "metadata": {
      "needs_background": "light"
     },
     "output_type": "display_data"
    }
   ],
   "source": [
    "plt.figure(figsize=(10,5))\n",
    "sns.barplot(x='raised_amount_usd',y='main_sector', data=D2, estimator=len)\n",
    "plt.xlabel(\"raised_amount_usd\", size=15)\n",
    "plt.ylabel(\"main_sector\", size=15)\n",
    "plt.title(\"Count Of Amount In GBR Across Sectors\", size=18)\n",
    "plt.show()            \n"
   ]
  },
  {
   "cell_type": "code",
   "execution_count": 72,
   "id": "1efbf2ce",
   "metadata": {},
   "outputs": [
    {
     "data": {
      "text/plain": [
       "main_sector  company_permalink           \n",
       "Others       /organization/electric-cloud    37.0\n",
       "Name: raised_amount_usd, dtype: float64"
      ]
     },
     "execution_count": 72,
     "metadata": {},
     "output_type": "execute_result"
    }
   ],
   "source": [
    "## For point 3 (top sector count-wise), which company received the highest investment?\n",
    "\n",
    "D2[D2['main_sector']=='Others'].groupby(['main_sector','company_permalink'])['raised_amount_usd'].agg('sum').sort_values(ascending=False).head(1)"
   ]
  },
  {
   "cell_type": "code",
   "execution_count": 73,
   "id": "0764975c",
   "metadata": {},
   "outputs": [
    {
     "data": {
      "text/plain": [
       "main_sector                              company_permalink                  \n",
       "Social, Finance, Analytics, Advertising  /organization/celltick-technologies    37.5\n",
       "Name: raised_amount_usd, dtype: float64"
      ]
     },
     "execution_count": 73,
     "metadata": {},
     "output_type": "execute_result"
    }
   ],
   "source": [
    "## For point 4 (second best sector count-wise), which company received the highest investment?\n",
    "\n",
    "D2[D2['main_sector']=='Social, Finance, Analytics, Advertising'].groupby(['main_sector','company_permalink'])['raised_amount_usd'].agg('sum').sort_values(ascending=False).head(1)"
   ]
  },
  {
   "cell_type": "markdown",
   "id": "565c8762",
   "metadata": {},
   "source": [
    "### For IND -- Sector-wise Investment Analysis"
   ]
  },
  {
   "cell_type": "code",
   "execution_count": 74,
   "id": "aaeaf594",
   "metadata": {},
   "outputs": [],
   "source": [
    "## Country code for IND, and raised_amount_usd is between 5 to 15\n",
    "\n",
    "D3=master_frame[(master_frame['country_code']=='IND') & (master_frame['raised_amount_usd'] >=5) \n",
    "                & (master_frame['raised_amount_usd'] <=15)]"
   ]
  },
  {
   "cell_type": "code",
   "execution_count": 75,
   "id": "da9fee56",
   "metadata": {},
   "outputs": [
    {
     "data": {
      "text/plain": [
       "340"
      ]
     },
     "execution_count": 75,
     "metadata": {},
     "output_type": "execute_result"
    }
   ],
   "source": [
    "## Total number of Investments (count) for IND\n",
    "\n",
    "D3.raised_amount_usd.count()"
   ]
  },
  {
   "cell_type": "code",
   "execution_count": 76,
   "id": "b7c25e87",
   "metadata": {},
   "outputs": [
    {
     "data": {
      "text/plain": [
       "3038.5436019999997"
      ]
     },
     "execution_count": 76,
     "metadata": {},
     "output_type": "execute_result"
    }
   ],
   "source": [
    "## Total amount of investment (USD) for IND\n",
    "\n",
    "D3.raised_amount_usd.sum()"
   ]
  },
  {
   "cell_type": "code",
   "execution_count": 77,
   "id": "f3c43a2d",
   "metadata": {
    "scrolled": true
   },
   "outputs": [
    {
     "data": {
      "text/plain": [
       "main_sector\n",
       "Others                                     114\n",
       "Social, Finance, Analytics, Advertising     64\n",
       "News, Search and Messaging                  53\n",
       "Name: raised_amount_usd, dtype: int64"
      ]
     },
     "execution_count": 77,
     "metadata": {},
     "output_type": "execute_result"
    }
   ],
   "source": [
    "## Top three Sector name (no. of investment-wise) for IND\n",
    "\n",
    "D3.groupby('main_sector')['raised_amount_usd'].agg('count').sort_values(ascending=False).head(3)"
   ]
  },
  {
   "cell_type": "code",
   "execution_count": 78,
   "id": "9eb0d444",
   "metadata": {},
   "outputs": [
    {
     "data": {
      "image/png": "[encoded data removed]",
      "text/plain": [
       "<Figure size 720x360 with 1 Axes>"
      ]
     },
     "metadata": {
      "needs_background": "light"
     },
     "output_type": "display_data"
    }
   ],
   "source": [
    "plt.figure(figsize=(10,5))\n",
    "sns.barplot(x='raised_amount_usd',y='main_sector', data=D3, estimator=len)\n",
    "plt.xlabel(\"raised_amount_usd\", size=15)\n",
    "plt.ylabel(\"main_sector\", size=15)\n",
    "plt.title(\"Count Of Amount In IND Across Sectors\", size=18)\n",
    "plt.show()            \n",
    "\n"
   ]
  },
  {
   "cell_type": "code",
   "execution_count": 79,
   "id": "996586b7",
   "metadata": {},
   "outputs": [
    {
     "data": {
      "text/plain": [
       "main_sector  company_permalink         \n",
       "Others       /organization/firstcry-com    39.0\n",
       "Name: raised_amount_usd, dtype: float64"
      ]
     },
     "execution_count": 79,
     "metadata": {},
     "output_type": "execute_result"
    }
   ],
   "source": [
    "## For point 3 (top sector count-wise), which company received the highest investment?\n",
    "\n",
    "D3[D3['main_sector']=='Others'].groupby(['main_sector','company_permalink'])['raised_amount_usd'].agg('sum').sort_values(ascending=False).head(1)"
   ]
  },
  {
   "cell_type": "code",
   "execution_count": 80,
   "id": "3e8c88a8",
   "metadata": {},
   "outputs": [
    {
     "data": {
      "text/plain": [
       "main_sector                              company_permalink            \n",
       "Social, Finance, Analytics, Advertising  /organization/manthan-systems    50.7\n",
       "Name: raised_amount_usd, dtype: float64"
      ]
     },
     "execution_count": 80,
     "metadata": {},
     "output_type": "execute_result"
    }
   ],
   "source": [
    "## For point 4 (second best sector count-wise), which company received the highest investment?\n",
    "\n",
    "D3[D3['main_sector']=='Social, Finance, Analytics, Advertising'].groupby(['main_sector','company_permalink'])['raised_amount_usd'].agg('sum').sort_values(ascending=False).head(1)"
   ]
  },
  {
   "cell_type": "markdown",
   "id": "10869da3",
   "metadata": {},
   "source": [
    "## Checkpoint 5: Sector Analysis 2: Completed\n",
    "\n",
    "<hr style=\"border:2px solid blue\"> </hr>"
   ]
  },
  {
   "cell_type": "markdown",
   "id": "00135c8a",
   "metadata": {},
   "source": [
    "<hr style=\"border:2px solid blue\"> </hr>\n",
    "\n",
    "## Checkpoint 6: Plots\n",
    "As a final step, you have to present your findings to the CEO of Spark Funds. Specifically, she wants to see the following plots:\n",
    " \n",
    "1. A plot showing the **representative amount of investment** in each funding type. This chart should make it clear that a certain funding type (FT) is best suited for Spark Funds.   \n",
    "2. A plot showing the top 9 countries against the total amount of investments of funding type FT. This should make the top 3 countries (Country 1, Country 2, and Country 3) very clear.                                               \n",
    "\n",
    "3. A plot showing the number of investments in the **top 3 sectors** of the **top 3 countries** on one chart (for the chosen investment type FT). This plot should clearly display the top 3 sectors each in Country 1, Country 2, and Country 3.\n",
    " \n",
    "**Expected Result:** The three plots."
   ]
  },
  {
   "cell_type": "markdown",
   "id": "a46dbcd5",
   "metadata": {},
   "source": [
    "#### Scenario 1: A plot showing the representative amount of investment in each funding type. This chart should make it clear  that a certain funding type (FT) is best suited for Spark Funds.\n",
    "\n"
   ]
  },
  {
   "cell_type": "code",
   "execution_count": 81,
   "id": "4c904855",
   "metadata": {},
   "outputs": [
    {
     "data": {
      "image/png": "[encoded data removed]",
      "text/plain": [
       "<Figure size 720x360 with 1 Axes>"
      ]
     },
     "metadata": {
      "needs_background": "light"
     },
     "output_type": "display_data"
    }
   ],
   "source": [
    "plt.figure(figsize=(10,5))\n",
    "plt1 = sns.barplot(x=\"funding_round_type\", y=\"raised_amount_usd\", data=master_frame)\n",
    "plt1.set_title('Fund Type Suited For Spark Funds', fontsize=18)\n",
    "plt.show()"
   ]
  },
  {
   "cell_type": "markdown",
   "id": "573af294",
   "metadata": {},
   "source": [
    "####  Scenario 2: A plot showing the top 9 countries against the total amount of investments of funding type FT. This should make the top 3 countries (Country 1, Country 2, and Country 3) very clear."
   ]
  },
  {
   "cell_type": "code",
   "execution_count": 82,
   "id": "b8f5f3e4",
   "metadata": {
    "scrolled": true
   },
   "outputs": [
    {
     "data": {
      "image/png": "[encoded data removed]",
      "text/plain": [
       "<Figure size 720x360 with 1 Axes>"
      ]
     },
     "metadata": {
      "needs_background": "light"
     },
     "output_type": "display_data"
    }
   ],
   "source": [
    "plt.figure(figsize=(10,5))\n",
    "plt2=sns.barplot(x='country_code',y='raised_amount_usd', data=top9, estimator=np.sum)\n",
    "plt2.set_title('Showing Top Nine Countries', fontsize=18)\n",
    "plt.show()"
   ]
  },
  {
   "cell_type": "markdown",
   "id": "b687d5c7",
   "metadata": {},
   "source": [
    "#### Scenario 3: A plot showing the number of investments in the top 3 sectors of the top 3 countries on one chart (for the chosen investment type FT). This plot should clearly display the top 3 sectors each in Country 1, Country 2, and Country 3.\n"
   ]
  },
  {
   "cell_type": "code",
   "execution_count": 83,
   "id": "9884268d",
   "metadata": {},
   "outputs": [],
   "source": [
    "##Concatenating all the dataframes with the required top 3 sectors\n",
    "\n",
    "integrated_dataframe=pd.concat([D1[D1['main_sector'].isin(['Others','Social, Finance, Analytics, Advertising','Cleantech / Semiconductors'])],\n",
    "                                D2[D2['main_sector'].isin(['Others','Social, Finance, Analytics, Advertising','Cleantech / Semiconductors'])],\n",
    "                                D3[D3['main_sector'].isin(['Others','Social, Finance, Analytics, Advertising','News, Search and Messaging'])]])"
   ]
  },
  {
   "cell_type": "code",
   "execution_count": 84,
   "id": "e43d6aeb",
   "metadata": {},
   "outputs": [
    {
     "data": {
      "image/png": "[encoded data removed]",
      "text/plain": [
       "<Figure size 864x576 with 1 Axes>"
      ]
     },
     "metadata": {
      "needs_background": "light"
     },
     "output_type": "display_data"
    }
   ],
   "source": [
    "plt.figure(figsize=(12,8))\n",
    "plt2=sns.barplot(x='country_code',y='raised_amount_usd', hue='main_sector',data=integrated_dataframe, estimator=lambda x:len(x))\n",
    "plt2.set_title('Top Three Countries Investments In Top Three Sectors', fontsize=18)\n",
    "plt.show()"
   ]
  }
 ],
 "metadata": {
  "kernelspec": {
   "display_name": "Python 3",
   "language": "python",
   "name": "python3"
  },
  "language_info": {
   "codemirror_mode": {
    "name": "ipython",
    "version": 3
   },
   "file_extension": ".py",
   "mimetype": "text/x-python",
   "name": "python",
   "nbconvert_exporter": "python",
   "pygments_lexer": "ipython3",
   "version": "3.8.5"
  }
 },
 "nbformat": 4,
 "nbformat_minor": 5
}
